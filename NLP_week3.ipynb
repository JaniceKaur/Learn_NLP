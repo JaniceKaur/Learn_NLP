{
 "cells": [
  {
   "cell_type": "code",
   "execution_count": 2,
   "id": "2b4f343d",
   "metadata": {},
   "outputs": [],
   "source": [
    "# MORPHOLOFY ANALYSIS\n",
    "# finding the structure of words (formation of words)\n",
    "# in NLP we use it to find base form for different words\n",
    "# it is done to reduce the dimensionallity of the dataset"
   ]
  },
  {
   "cell_type": "code",
   "execution_count": 1,
   "id": "9e154c83",
   "metadata": {},
   "outputs": [],
   "source": [
    "# re.search(p,s) 'p' being the pattern and 's' being the string to be searched"
   ]
  },
  {
   "cell_type": "code",
   "execution_count": 3,
   "id": "85749145",
   "metadata": {},
   "outputs": [],
   "source": [
    "import re\n",
    "import nltk"
   ]
  },
  {
   "cell_type": "code",
   "execution_count": 4,
   "id": "6597511d",
   "metadata": {},
   "outputs": [],
   "source": [
    "# Treebank is a tagged corpus wordlist\n",
    "wsj=sorted(set(nltk.corpus.treebank.words()))"
   ]
  },
  {
   "cell_type": "code",
   "execution_count": 6,
   "id": "911fb37b",
   "metadata": {},
   "outputs": [
    {
     "data": {
      "text/plain": [
       "['0.9',\n",
       " '0.99',\n",
       " '1.9',\n",
       " '107.9',\n",
       " '112.9',\n",
       " '116.9',\n",
       " '12.09',\n",
       " '13.90',\n",
       " '132.9',\n",
       " '14.00',\n",
       " '14.99',\n",
       " '141.9',\n",
       " '148.9',\n",
       " '149.9',\n",
       " '150.00',\n",
       " '16.09',\n",
       " '16.9',\n",
       " '169.9',\n",
       " '185.9',\n",
       " '191.9',\n",
       " '2.9',\n",
       " '21.9',\n",
       " '2645.90',\n",
       " '29.9',\n",
       " '3.9',\n",
       " '30.9',\n",
       " '352.9',\n",
       " '36.9',\n",
       " '372.9',\n",
       " '4.9',\n",
       " '49.9',\n",
       " '5.9',\n",
       " '59.9',\n",
       " '6.9',\n",
       " '630.9',\n",
       " '7.90',\n",
       " '734.9',\n",
       " '8.9',\n",
       " '811.9',\n",
       " '84.9',\n",
       " '89.9',\n",
       " '9.9',\n",
       " '92.9',\n",
       " '93.9',\n",
       " '95.09']"
      ]
     },
     "execution_count": 6,
     "metadata": {},
     "output_type": "execute_result"
    }
   ],
   "source": [
    "# all decimal numbers\n",
    "[w for w in wsj if re.search('^[0-9]+\\.[0.9]+$',w)]"
   ]
  },
  {
   "cell_type": "code",
   "execution_count": 8,
   "id": "4284d146",
   "metadata": {},
   "outputs": [
    {
     "data": {
      "text/plain": [
       "['C$', 'US$']"
      ]
     },
     "execution_count": 8,
     "metadata": {},
     "output_type": "execute_result"
    }
   ],
   "source": [
    "# words ending in $ sign\n",
    "[w for w in wsj if re.search('^[A-Z]+\\$$',w)]"
   ]
  },
  {
   "cell_type": "code",
   "execution_count": 9,
   "id": "3830fa09",
   "metadata": {},
   "outputs": [
    {
     "data": {
      "text/plain": [
       "['1614',\n",
       " '1637',\n",
       " '1787',\n",
       " '1901',\n",
       " '1903',\n",
       " '1917',\n",
       " '1925',\n",
       " '1929',\n",
       " '1933',\n",
       " '1934',\n",
       " '1948',\n",
       " '1953',\n",
       " '1955',\n",
       " '1956',\n",
       " '1961',\n",
       " '1965',\n",
       " '1966',\n",
       " '1967',\n",
       " '1968',\n",
       " '1969',\n",
       " '1970',\n",
       " '1971',\n",
       " '1972',\n",
       " '1973',\n",
       " '1975',\n",
       " '1976',\n",
       " '1977',\n",
       " '1979',\n",
       " '1980',\n",
       " '1981',\n",
       " '1982',\n",
       " '1983',\n",
       " '1984',\n",
       " '1985',\n",
       " '1986',\n",
       " '1987',\n",
       " '1988',\n",
       " '1989',\n",
       " '1990',\n",
       " '1991',\n",
       " '1992',\n",
       " '1993',\n",
       " '1994',\n",
       " '1995',\n",
       " '1996',\n",
       " '1997',\n",
       " '1998',\n",
       " '1999',\n",
       " '2000',\n",
       " '2005',\n",
       " '2009',\n",
       " '2017',\n",
       " '2019',\n",
       " '2029',\n",
       " '3057',\n",
       " '8300']"
      ]
     },
     "execution_count": 9,
     "metadata": {},
     "output_type": "execute_result"
    }
   ],
   "source": [
    "# words with exactly 4 digits\n",
    "[w for w in wsj if re.search('^[0-9]{4}$',w)]"
   ]
  },
  {
   "cell_type": "code",
   "execution_count": 11,
   "id": "4d6e8f0c",
   "metadata": {},
   "outputs": [
    {
     "data": {
      "text/plain": [
       "['10-day',\n",
       " '10-lap',\n",
       " '10-year',\n",
       " '100-share',\n",
       " '12-point',\n",
       " '12-year',\n",
       " '14-hour',\n",
       " '15-day',\n",
       " '150-point',\n",
       " '190-point',\n",
       " '20-point',\n",
       " '20-stock',\n",
       " '21-month',\n",
       " '237-seat',\n",
       " '240-page',\n",
       " '27-year',\n",
       " '30-day',\n",
       " '30-point',\n",
       " '30-share',\n",
       " '30-year',\n",
       " '300-day',\n",
       " '36-day',\n",
       " '36-store',\n",
       " '42-year',\n",
       " '50-state',\n",
       " '500-stock',\n",
       " '52-week',\n",
       " '69-point',\n",
       " '84-month',\n",
       " '87-store',\n",
       " '90-day']"
      ]
     },
     "execution_count": 11,
     "metadata": {},
     "output_type": "execute_result"
    }
   ],
   "source": [
    "# words staring with a number then a hyphen and then 3 to 5 chars\n",
    "[w for w in wsj if re.search('^[0-9]+-[a-z]{3,5}$',w)]"
   ]
  },
  {
   "cell_type": "code",
   "execution_count": 12,
   "id": "0b34a620",
   "metadata": {},
   "outputs": [
    {
     "data": {
      "text/plain": [
       "'build'"
      ]
     },
     "execution_count": 12,
     "metadata": {},
     "output_type": "execute_result"
    }
   ],
   "source": [
    "stemmer=nltk.stem.PorterStemmer()\n",
    "stemmer.stem('building')"
   ]
  },
  {
   "cell_type": "code",
   "execution_count": 13,
   "id": "b58f9d9c",
   "metadata": {},
   "outputs": [
    {
     "data": {
      "text/plain": [
       "'building'"
      ]
     },
     "execution_count": 13,
     "metadata": {},
     "output_type": "execute_result"
    }
   ],
   "source": [
    "lemmatizer=nltk.stem.WordNetLemmatizer()\n",
    "word='building'\n",
    "pos='n'\n",
    "lemmatizer.lemmatize(word,pos)"
   ]
  },
  {
   "cell_type": "code",
   "execution_count": 14,
   "id": "c32d1b4e",
   "metadata": {},
   "outputs": [
    {
     "data": {
      "text/plain": [
       "'build'"
      ]
     },
     "execution_count": 14,
     "metadata": {},
     "output_type": "execute_result"
    }
   ],
   "source": [
    "pos='v'\n",
    "lemmatizer.lemmatize(word,pos)"
   ]
  }
 ],
 "metadata": {
  "kernelspec": {
   "display_name": "Python 3 (ipykernel)",
   "language": "python",
   "name": "python3"
  },
  "language_info": {
   "codemirror_mode": {
    "name": "ipython",
    "version": 3
   },
   "file_extension": ".py",
   "mimetype": "text/x-python",
   "name": "python",
   "nbconvert_exporter": "python",
   "pygments_lexer": "ipython3",
   "version": "3.9.7"
  }
 },
 "nbformat": 4,
 "nbformat_minor": 5
}
